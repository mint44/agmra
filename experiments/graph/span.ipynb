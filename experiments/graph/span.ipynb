{
 "cells": [
  {
   "cell_type": "code",
   "execution_count": null,
   "id": "82ddb218",
   "metadata": {},
   "outputs": [],
   "source": [
    "import pandas as pd\n",
    "\n",
    "# Import the ca-GrQc.txt dataset from datasets folder\n",
    "df = pd.read_csv('../../datasets/ca-GrQc.txt', sep='\\t', header=3, names=['source', 'target'])"
   ]
  },
  {
   "cell_type": "code",
   "execution_count": 5,
   "id": "da8ec8fc",
   "metadata": {},
   "outputs": [
    {
     "name": "stdout",
     "output_type": "stream",
     "text": [
      "   source  target\n",
      "0    3466     937\n",
      "1    3466    5233\n",
      "2    3466    8579\n",
      "3    3466   10310\n",
      "4    3466   15931\n",
      "(28980, 2)\n"
     ]
    }
   ],
   "source": [
    "# Display the first 5 rows of the DataFrame\n",
    "print(df.head())\n",
    "# Display the shape of the DataFrame\n",
    "print(df.shape)"
   ]
  },
  {
   "cell_type": "code",
   "execution_count": null,
   "id": "2b0e6825",
   "metadata": {},
   "outputs": [],
   "source": [
    "from IPython.display import SVG\n",
    "\n",
    "import numpy as np\n",
    "from scipy import sparse\n",
    "import pandas as pd\n",
    "\n",
    "from sknetwork.data import from_edge_list\n",
    "from sknetwork.visualization import visualize_graph, visualize_bigraph, visualize_dendrogram\n",
    "from sknetwork.linkpred import NNLinker\n",
    "from sknetwork.embedding import Spectral\n"
   ]
  },
  {
   "cell_type": "code",
   "execution_count": 26,
   "id": "41945378",
   "metadata": {},
   "outputs": [
    {
     "name": "stdout",
     "output_type": "stream",
     "text": [
      "Adjacency matrix type: <class 'scipy.sparse._csr.csr_matrix'>\n",
      "Adjacency matrix shape: (26197, 26197)\n",
      "Number of edges: 28980\n",
      "Is symmetric: True\n"
     ]
    }
   ],
   "source": [
    "edge_list = list(df.itertuples(index=False))\n",
    "adjacency = from_edge_list(edge_list)\n",
    "\n",
    "# Print adjacency matrix information\n",
    "print(f\"Adjacency matrix type: {type(adjacency)}\")\n",
    "print(f\"Adjacency matrix shape: {adjacency.shape}\")\n",
    "print(f\"Number of edges: {adjacency.nnz}\")\n",
    "print(f\"Is symmetric: {(adjacency != adjacency.T).nnz == 0}\")"
   ]
  },
  {
   "cell_type": "code",
   "execution_count": 28,
   "id": "0c82750f",
   "metadata": {},
   "outputs": [
    {
     "data": {
      "text/plain": [
       "(26197, 20)"
      ]
     },
     "execution_count": 28,
     "metadata": {},
     "output_type": "execute_result"
    }
   ],
   "source": [
    "n_components = 20\n",
    "\n",
    "spectral = Spectral(n_components=n_components)\n",
    "embedding = spectral.fit_transform(adjacency)\n",
    "embedding.shape"
   ]
  },
  {
   "cell_type": "code",
   "execution_count": null,
   "id": "e9d345f6",
   "metadata": {},
   "outputs": [
    {
     "ename": "TypeError",
     "evalue": "visualize_graph() got an unexpected keyword argument 'embedding'",
     "output_type": "error",
     "traceback": [
      "\u001b[31m---------------------------------------------------------------------------\u001b[39m",
      "\u001b[31mTypeError\u001b[39m                                 Traceback (most recent call last)",
      "\u001b[36mCell\u001b[39m\u001b[36m \u001b[39m\u001b[32mIn[29]\u001b[39m\u001b[32m, line 1\u001b[39m\n\u001b[32m----> \u001b[39m\u001b[32m1\u001b[39m image = \u001b[43mvisualize_graph\u001b[49m\u001b[43m(\u001b[49m\u001b[43madjacency\u001b[49m\u001b[43m,\u001b[49m\u001b[43m \u001b[49m\u001b[43membedding\u001b[49m\u001b[43m=\u001b[49m\u001b[43membedding\u001b[49m\u001b[43m,\u001b[49m\u001b[43m \u001b[49m\u001b[43mn_components\u001b[49m\u001b[43m=\u001b[49m\u001b[43mn_components\u001b[49m\u001b[43m)\u001b[49m\n\u001b[32m      2\u001b[39m SVG(image)\n",
      "\u001b[31mTypeError\u001b[39m: visualize_graph() got an unexpected keyword argument 'embedding'"
     ]
    }
   ],
   "source": [
    "image = visualize_dendrogram(adjacency, embedding=embedding, n_components=n_components)\n",
    "SVG(image)"
   ]
  },
  {
   "cell_type": "code",
   "execution_count": 27,
   "id": "f0cfe216",
   "metadata": {},
   "outputs": [],
   "source": [
    "linker = NNLinker(n_neighbors=3)\n",
    "links = linker.fit_predict(adjacency)"
   ]
  }
 ],
 "metadata": {
  "kernelspec": {
   "display_name": "gmra",
   "language": "python",
   "name": "python3"
  },
  "language_info": {
   "codemirror_mode": {
    "name": "ipython",
    "version": 3
   },
   "file_extension": ".py",
   "mimetype": "text/x-python",
   "name": "python",
   "nbconvert_exporter": "python",
   "pygments_lexer": "ipython3",
   "version": "3.12.11"
  }
 },
 "nbformat": 4,
 "nbformat_minor": 5
}
