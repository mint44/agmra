{
 "cells": [
  {
   "cell_type": "code",
   "execution_count": 1,
   "id": "d9763a78",
   "metadata": {},
   "outputs": [],
   "source": [
    "from IPython.display import SVG\n",
    "import numpy as np\n",
    "from scipy import sparse\n",
    "from scipy.cluster.hierarchy import dendrogram, linkage\n",
    "from sknetwork.data import from_edge_list, load_netset\n",
    "from sknetwork.ranking import PageRank, top_k\n",
    "from sknetwork.embedding import Spectral\n",
    "from sknetwork.clustering import Louvain\n",
    "from sknetwork.classification import DiffusionClassifier\n",
    "from sknetwork.utils import get_neighbors\n",
    "from sknetwork.visualization import visualize_graph, visualize_bigraph, visualize_dendrogram"
   ]
  },
  {
   "cell_type": "code",
   "execution_count": 2,
   "id": "14f2fbe9",
   "metadata": {},
   "outputs": [
    {
     "name": "stdout",
     "output_type": "stream",
     "text": [
      "Parsing files...\n",
      "Done.\n"
     ]
    }
   ],
   "source": [
    "# Load the Wikivitals dataset\n",
    "wikivitals = load_netset('wikivitals')\n",
    "adjacency = wikivitals.adjacency\n",
    "labels = wikivitals.labels\n",
    "names = wikivitals.names\n",
    "names_labels = wikivitals.names_labels"
   ]
  },
  {
   "cell_type": "code",
   "execution_count": 3,
   "id": "7ae1ac47",
   "metadata": {},
   "outputs": [
    {
     "data": {
      "text/plain": [
       "<Compressed Sparse Row sparse matrix of dtype 'bool'\n",
       "\twith 824999 stored elements and shape (10011, 10011)>"
      ]
     },
     "execution_count": 3,
     "metadata": {},
     "output_type": "execute_result"
    }
   ],
   "source": [
    "adjacency # make sure the adjacency matrix is a csr sparse matrix"
   ]
  },
  {
   "cell_type": "code",
   "execution_count": 4,
   "id": "327d37fd",
   "metadata": {},
   "outputs": [
    {
     "name": "stdout",
     "output_type": "stream",
     "text": [
      "['Arts' 'Biological and health sciences' 'Everyday life' 'Geography'\n",
      " 'History' 'Mathematics' 'People' 'Philosophy and religion'\n",
      " 'Physical sciences' 'Society and social sciences' 'Technology']\n"
     ]
    }
   ],
   "source": [
    "print(names_labels) # Print the main labels (categories) of the dataset"
   ]
  },
  {
   "cell_type": "code",
   "execution_count": 5,
   "id": "d6dfafdd",
   "metadata": {},
   "outputs": [
    {
     "name": "stdout",
     "output_type": "stream",
     "text": [
      "[(np.str_('Arts'), 0), (np.str_('Biological and health sciences'), 1), (np.str_('Everyday life'), 2)]\n"
     ]
    }
   ],
   "source": [
    "label_id = {name: i for i, name in enumerate(names_labels)} # Create a mapping from label names to indices\n",
    "print(list(label_id.items())[:3]) # Print the first three label mappings"
   ]
  },
  {
   "cell_type": "code",
   "execution_count": 6,
   "id": "caef3842",
   "metadata": {},
   "outputs": [
    {
     "name": "stdout",
     "output_type": "stream",
     "text": [
      "Name no. 10000:  Édouard Manet\n",
      "Label no.  6\n",
      "Label name:  People\n"
     ]
    }
   ],
   "source": [
    "i = 10000\n",
    "print(f\"Name no. {i}: \", names[i])\n",
    "print(\"Label no. \", labels[i])\n",
    "print(\"Label name: \", names_labels[labels[i]])"
   ]
  },
  {
   "cell_type": "code",
   "execution_count": 7,
   "id": "a63d719a",
   "metadata": {},
   "outputs": [
    {
     "name": "stdout",
     "output_type": "stream",
     "text": [
      "Neighbors of Édouard Manet:  ['Adolphe Thiers' 'American Civil War' 'Bordeaux' 'Camille Pissarro'\n",
      " 'Carmen' 'Charles Baudelaire' 'Claude Monet' 'Diego Velázquez'\n",
      " 'Edgar Allan Poe' 'Edgar Degas']\n"
     ]
    }
   ],
   "source": [
    "neighbors = get_neighbors(adjacency, i)\n",
    "print(f\"Neighbors of {names[i]}: \", names[neighbors[:10]])"
   ]
  },
  {
   "cell_type": "code",
   "execution_count": 8,
   "id": "3bf58d2b",
   "metadata": {},
   "outputs": [],
   "source": [
    "pagerank = PageRank()\n",
    "n_selection = 50\n",
    "selection = []\n",
    "for label in np.arange(len(names_labels)):\n",
    "    ppr = pagerank.fit_predict(adjacency, weights=(labels==label))\n",
    "    scores = ppr * (labels == label)\n",
    "    selection.append(top_k(scores, n_selection))\n",
    "selection = np.array(selection)"
   ]
  },
  {
   "cell_type": "code",
   "execution_count": 9,
   "id": "d9a1410a",
   "metadata": {},
   "outputs": [
    {
     "data": {
      "text/plain": [
       "(11, 50)"
      ]
     },
     "execution_count": 9,
     "metadata": {},
     "output_type": "execute_result"
    }
   ],
   "source": [
    "selection.shape"
   ]
  },
  {
   "cell_type": "code",
   "execution_count": 10,
   "id": "cec4e978",
   "metadata": {},
   "outputs": [
    {
     "name": "stdout",
     "output_type": "stream",
     "text": [
      "----------\n",
      "0 Arts\n",
      "['Encyclopædia Britannica' 'Romanticism' 'Jazz' 'Modernism' 'Baroque']\n",
      "----------\n",
      "1 Biological and health sciences\n",
      "['Taxonomy (biology)' 'Animal' 'Chordate' 'Plant' 'Species']\n",
      "----------\n",
      "2 Everyday life\n",
      "['Olympic Games' 'Association football' 'Basketball' 'Baseball' 'Softball']\n",
      "----------\n",
      "3 Geography\n",
      "['Geographic coordinate system' 'United States' 'China' 'France' 'India']\n",
      "----------\n",
      "4 History\n",
      "['World War II' 'World War I' 'Roman Empire' 'Ottoman Empire'\n",
      " 'Middle Ages']\n",
      "----------\n",
      "5 Mathematics\n",
      "['Real number' 'Function (mathematics)' 'Complex number'\n",
      " 'Set (mathematics)' 'Integer']\n",
      "----------\n",
      "6 People\n",
      "['Aristotle' 'Plato' 'Augustine of Hippo' 'Winston Churchill'\n",
      " 'Thomas Aquinas']\n",
      "----------\n",
      "7 Philosophy and religion\n",
      "['Christianity' 'Islam' 'Buddhism' 'Hinduism' 'Catholic Church']\n",
      "----------\n",
      "8 Physical sciences\n",
      "['Oxygen' 'Hydrogen' 'Earth' 'Kelvin' 'Density']\n",
      "----------\n",
      "9 Society and social sciences\n",
      "['The New York Times' 'Latin' 'English language' 'French language'\n",
      " 'United Nations']\n",
      "----------\n",
      "10 Technology\n",
      "['NASA' 'Internet' 'Operating system' 'Computer network' 'Computer']\n"
     ]
    }
   ],
   "source": [
    "for label, name_label in enumerate(names_labels):\n",
    "    print(\"-\"*10)\n",
    "    print(label, name_label)\n",
    "    print(names[selection[label,:5]])"
   ]
  },
  {
   "cell_type": "markdown",
   "id": "963ae4e7",
   "metadata": {},
   "source": [
    "## Embedding"
   ]
  },
  {
   "cell_type": "code",
   "execution_count": 11,
   "id": "46a8dd0a",
   "metadata": {},
   "outputs": [
    {
     "data": {
      "text/plain": [
       "(10011, 20)"
      ]
     },
     "execution_count": 11,
     "metadata": {},
     "output_type": "execute_result"
    }
   ],
   "source": [
    "n_components = 20\n",
    "spectral = Spectral(n_components=n_components)\n",
    "embeddings = spectral.fit_transform(adjacency)\n",
    "embeddings.shape"
   ]
  },
  {
   "cell_type": "code",
   "execution_count": 12,
   "id": "c7bb7ba7",
   "metadata": {},
   "outputs": [
    {
     "data": {
      "image/svg+xml": [
       "<svg xmlns=\"http://www.w3.org/2000/svg\" width=\"599.0\" height=\"620\"><text x=\"415\" y=\"158.0\" font-size=\"12\">Oxygen</text><text x=\"415\" y=\"194.0\" font-size=\"12\">Hydrogen</text><text x=\"415\" y=\"266.0\" font-size=\"12\">Earth</text><text x=\"415\" y=\"422.0\" font-size=\"12\">Kelvin</text><text x=\"415\" y=\"146.0\" font-size=\"12\">Density</text><text x=\"415\" y=\"494.0\" font-size=\"12\">Electron</text><text x=\"415\" y=\"242.0\" font-size=\"12\">Sun</text><text x=\"415\" y=\"278.0\" font-size=\"12\">Water</text><text x=\"415\" y=\"26.0\" font-size=\"12\">Nitrogen</text><text x=\"415\" y=\"14.0\" font-size=\"12\">Carbon</text><text x=\"415\" y=\"530.0\" font-size=\"12\">Quantum mechanics</text><text x=\"415\" y=\"518.0\" font-size=\"12\">Physics</text><text x=\"415\" y=\"170.0\" font-size=\"12\">Carbon dioxide</text><text x=\"415\" y=\"38.0\" font-size=\"12\">Iron</text><text x=\"415\" y=\"554.0\" font-size=\"12\">Energy</text><text x=\"415\" y=\"566.0\" font-size=\"12\">Temperature</text><text x=\"415\" y=\"182.0\" font-size=\"12\">Chemical element</text><text x=\"415\" y=\"446.0\" font-size=\"12\">Atom</text><text x=\"415\" y=\"326.0\" font-size=\"12\">International System of Units</text><text x=\"415\" y=\"206.0\" font-size=\"12\">Helium</text><text x=\"415\" y=\"590.0\" font-size=\"12\">Mass</text><text x=\"415\" y=\"458.0\" font-size=\"12\">Molecule</text><text x=\"415\" y=\"578.0\" font-size=\"12\">Pressure</text><text x=\"415\" y=\"230.0\" font-size=\"12\">Solar System</text><text x=\"415\" y=\"470.0\" font-size=\"12\">Ion</text><text x=\"415\" y=\"338.0\" font-size=\"12\">Joule</text><text x=\"415\" y=\"50.0\" font-size=\"12\">Copper</text><text x=\"415\" y=\"302.0\" font-size=\"12\">Magnetic field</text><text x=\"415\" y=\"218.0\" font-size=\"12\">Astronomy</text><text x=\"415\" y=\"398.0\" font-size=\"12\">Pascal (unit)</text><text x=\"415\" y=\"122.0\" font-size=\"12\">Sodium</text><text x=\"415\" y=\"434.0\" font-size=\"12\">Metre</text><text x=\"415\" y=\"410.0\" font-size=\"12\">Kilogram</text><text x=\"415\" y=\"254.0\" font-size=\"12\">Star</text><text x=\"415\" y=\"482.0\" font-size=\"12\">Solid</text><text x=\"415\" y=\"602.0\" font-size=\"12\">Gravity</text><text x=\"415\" y=\"542.0\" font-size=\"12\">Photon</text><text x=\"415\" y=\"350.0\" font-size=\"12\">Second</text><text x=\"415\" y=\"74.0\" font-size=\"12\">Magnesium</text><text x=\"415\" y=\"314.0\" font-size=\"12\">Electronvolt</text><text x=\"415\" y=\"506.0\" font-size=\"12\">Proton</text><text x=\"415\" y=\"134.0\" font-size=\"12\">Sulfur</text><text x=\"415\" y=\"290.0\" font-size=\"12\">Astronomical unit</text><text x=\"415\" y=\"362.0\" font-size=\"12\">Newton (unit)</text><text x=\"415\" y=\"110.0\" font-size=\"12\">Chlorine</text><text x=\"415\" y=\"374.0\" font-size=\"12\">Hertz</text><text x=\"415\" y=\"86.0\" font-size=\"12\">Zinc</text><text x=\"415\" y=\"386.0\" font-size=\"12\">Watt</text><text x=\"415\" y=\"62.0\" font-size=\"12\">Gold</text><text x=\"415\" y=\"98.0\" font-size=\"12\">Mercury (element)</text><path stroke-width=\"2\" stroke=\"green\" d=\"M 410 394.0 406.8302474765896 394.0\"/><path stroke-width=\"2\" stroke=\"green\" d=\"M 410 406.0 406.8302474765896 406.0\"/><path stroke-width=\"2\" stroke=\"green\" d=\"M 406.8302474765896 394.0 406.8302474765896 406.0\"/><path stroke-width=\"2\" stroke=\"blue\" d=\"M 410 118.0 405.80948494703 118.0\"/><path stroke-width=\"2\" stroke=\"blue\" d=\"M 410 130.0 405.80948494703 130.0\"/><path stroke-width=\"2\" stroke=\"blue\" d=\"M 405.80948494703 118.0 405.80948494703 130.0\"/><path stroke-width=\"2\" stroke=\"blue\" d=\"M 410 106.0 405.07328694519214 106.0\"/><path stroke-width=\"2\" stroke=\"blue\" d=\"M 405.80948494703 124.0 405.07328694519214 124.0\"/><path stroke-width=\"2\" stroke=\"blue\" d=\"M 405.07328694519214 106.0 405.07328694519214 124.0\"/><path stroke-width=\"2\" stroke=\"green\" d=\"M 410 382.0 404.8492835273308 382.0\"/><path stroke-width=\"2\" stroke=\"green\" d=\"M 406.8302474765896 400.0 404.8492835273308 400.0\"/><path stroke-width=\"2\" stroke=\"green\" d=\"M 404.8492835273308 382.0 404.8492835273308 400.0\"/><path stroke-width=\"2\" stroke=\"blue\" d=\"M 410 70.0 404.38617399284107 70.0\"/><path stroke-width=\"2\" stroke=\"blue\" d=\"M 410 82.0 404.38617399284107 82.0\"/><path stroke-width=\"2\" stroke=\"blue\" d=\"M 404.38617399284107 70.0 404.38617399284107 82.0\"/><path stroke-width=\"2\" stroke=\"green\" d=\"M 410 322.0 403.9960160709348 322.0\"/><path stroke-width=\"2\" stroke=\"green\" d=\"M 410 334.0 403.9960160709348 334.0\"/><path stroke-width=\"2\" stroke=\"green\" d=\"M 403.9960160709348 322.0 403.9960160709348 334.0\"/><path stroke-width=\"2\" stroke=\"green\" d=\"M 410 346.0 403.62601342739214 346.0\"/><path stroke-width=\"2\" stroke=\"green\" d=\"M 410 358.0 403.62601342739214 358.0\"/><path stroke-width=\"2\" stroke=\"green\" d=\"M 403.62601342739214 346.0 403.62601342739214 358.0\"/><path stroke-width=\"2\" stroke=\"blue\" d=\"M 410 94.0 402.93808106979685 94.0\"/><path stroke-width=\"2\" stroke=\"blue\" d=\"M 405.07328694519214 115.0 402.93808106979685 115.0\"/><path stroke-width=\"2\" stroke=\"blue\" d=\"M 402.93808106979685 94.0 402.93808106979685 115.0\"/><path stroke-width=\"2\" stroke=\"green\" d=\"M 410 370.0 402.5353427468423 370.0\"/><path stroke-width=\"2\" stroke=\"green\" d=\"M 404.8492835273308 391.0 402.5353427468423 391.0\"/><path stroke-width=\"2\" stroke=\"green\" d=\"M 402.5353427468423 370.0 402.5353427468423 391.0\"/><path stroke-width=\"2\" stroke=\"green\" d=\"M 410 418.0 402.25183959961674 418.0\"/><path stroke-width=\"2\" stroke=\"green\" d=\"M 410 430.0 402.25183959961674 430.0\"/><path stroke-width=\"2\" stroke=\"green\" d=\"M 402.25183959961674 418.0 402.25183959961674 430.0\"/><path stroke-width=\"2\" stroke=\"blue\" d=\"M 410 46.0 401.9434435844464 46.0\"/><path stroke-width=\"2\" stroke=\"blue\" d=\"M 410 58.0 401.9434435844464 58.0\"/><path stroke-width=\"2\" stroke=\"blue\" d=\"M 401.9434435844464 46.0 401.9434435844464 58.0\"/><path stroke-width=\"2\" stroke=\"blue\" d=\"M 410 22.0 401.84963894091914 22.0\"/><path stroke-width=\"2\" stroke=\"blue\" d=\"M 410 34.0 401.84963894091914 34.0\"/><path stroke-width=\"2\" stroke=\"blue\" d=\"M 401.84963894091914 22.0 401.84963894091914 34.0\"/><path stroke-width=\"2\" stroke=\"blue\" d=\"M 410 190.0 401.45267947512747 190.0\"/><path stroke-width=\"2\" stroke=\"blue\" d=\"M 410 202.0 401.45267947512747 202.0\"/><path stroke-width=\"2\" stroke=\"blue\" d=\"M 401.45267947512747 190.0 401.45267947512747 202.0\"/><path stroke-width=\"2\" stroke=\"orange\" d=\"M 410 238.0 401.4124699141549 238.0\"/><path stroke-width=\"2\" stroke=\"orange\" d=\"M 410 250.0 401.4124699141549 250.0\"/><path stroke-width=\"2\" stroke=\"orange\" d=\"M 401.4124699141549 238.0 401.4124699141549 250.0\"/><path stroke-width=\"2\" stroke=\"blue\" d=\"M 404.38617399284107 76.0 401.23293056040137 76.0\"/><path stroke-width=\"2\" stroke=\"blue\" d=\"M 402.93808106979685 104.5 401.23293056040137 104.5\"/><path stroke-width=\"2\" stroke=\"blue\" d=\"M 401.23293056040137 76.0 401.23293056040137 104.5\"/><path stroke-width=\"2\" stroke=\"blue\" d=\"M 410 154.0 400.5912952662182 154.0\"/><path stroke-width=\"2\" stroke=\"blue\" d=\"M 410 166.0 400.5912952662182 166.0\"/><path stroke-width=\"2\" stroke=\"blue\" d=\"M 400.5912952662182 154.0 400.5912952662182 166.0\"/><path stroke-width=\"2\" stroke=\"blue\" d=\"M 410 10.0 400.27982000077446 10.0\"/><path stroke-width=\"2\" stroke=\"blue\" d=\"M 401.84963894091914 28.0 400.27982000077446 28.0\"/><path stroke-width=\"2\" stroke=\"blue\" d=\"M 400.27982000077446 10.0 400.27982000077446 28.0\"/><path stroke-width=\"2\" stroke=\"orange\" d=\"M 410 226.0 399.833217125189 226.0\"/><path stroke-width=\"2\" stroke=\"orange\" d=\"M 401.4124699141549 244.0 399.833217125189 244.0\"/><path stroke-width=\"2\" stroke=\"orange\" d=\"M 399.833217125189 226.0 399.833217125189 244.0\"/><path stroke-width=\"2\" stroke=\"red\" d=\"M 410 526.0 399.66365236653286 526.0\"/><path stroke-width=\"2\" stroke=\"red\" d=\"M 410 538.0 399.66365236653286 538.0\"/><path stroke-width=\"2\" stroke=\"red\" d=\"M 399.66365236653286 526.0 399.66365236653286 538.0\"/><path stroke-width=\"2\" stroke=\"green\" d=\"M 403.9960160709348 328.0 399.02137524657155 328.0\"/><path stroke-width=\"2\" stroke=\"green\" d=\"M 403.62601342739214 352.0 399.02137524657155 352.0\"/><path stroke-width=\"2\" stroke=\"green\" d=\"M 399.02137524657155 328.0 399.02137524657155 352.0\"/><path stroke-width=\"2\" stroke=\"orange\" d=\"M 410 214.0 398.1083395056837 214.0\"/><path stroke-width=\"2\" stroke=\"orange\" d=\"M 399.833217125189 235.0 398.1083395056837 235.0\"/><path stroke-width=\"2\" stroke=\"orange\" d=\"M 398.1083395056837 214.0 398.1083395056837 235.0\"/><path stroke-width=\"2\" stroke=\"green\" d=\"M 402.5353427468423 380.5 396.223354134168 380.5\"/><path stroke-width=\"2\" stroke=\"green\" d=\"M 402.25183959961674 424.0 396.223354134168 424.0\"/><path stroke-width=\"2\" stroke=\"green\" d=\"M 396.223354134168 380.5 396.223354134168 424.0\"/><path stroke-width=\"2\" stroke=\"green\" d=\"M 410 298.0 395.86949741316835 298.0\"/><path stroke-width=\"2\" stroke=\"green\" d=\"M 410 310.0 395.86949741316835 310.0\"/><path stroke-width=\"2\" stroke=\"green\" d=\"M 395.86949741316835 298.0 395.86949741316835 310.0\"/><path stroke-width=\"2\" stroke=\"red\" d=\"M 410 442.0 395.16236248854153 442.0\"/><path stroke-width=\"2\" stroke=\"red\" d=\"M 410 454.0 395.16236248854153 454.0\"/><path stroke-width=\"2\" stroke=\"red\" d=\"M 395.16236248854153 442.0 395.16236248854153 454.0\"/><path stroke-width=\"2\" stroke=\"red\" d=\"M 410 562.0 394.14911744058105 562.0\"/><path stroke-width=\"2\" stroke=\"red\" d=\"M 410 574.0 394.14911744058105 574.0\"/><path stroke-width=\"2\" stroke=\"red\" d=\"M 394.14911744058105 562.0 394.14911744058105 574.0\"/><path stroke-width=\"2\" stroke=\"blue\" d=\"M 401.9434435844464 52.0 394.09414617768584 52.0\"/><path stroke-width=\"2\" stroke=\"blue\" d=\"M 401.23293056040137 90.25 394.09414617768584 90.25\"/><path stroke-width=\"2\" stroke=\"blue\" d=\"M 394.09414617768584 52.0 394.09414617768584 90.25\"/><path stroke-width=\"2\" stroke=\"red\" d=\"M 410 490.0 393.45487691969026 490.0\"/><path stroke-width=\"2\" stroke=\"red\" d=\"M 410 502.0 393.45487691969026 502.0\"/><path stroke-width=\"2\" stroke=\"red\" d=\"M 393.45487691969026 490.0 393.45487691969026 502.0\"/><path stroke-width=\"2\" stroke=\"green\" d=\"M 399.02137524657155 340.0 392.56185993690013 340.0\"/><path stroke-width=\"2\" stroke=\"green\" d=\"M 396.223354134168 402.25 392.56185993690013 402.25\"/><path stroke-width=\"2\" stroke=\"green\" d=\"M 392.56185993690013 340.0 392.56185993690013 402.25\"/><path stroke-width=\"2\" stroke=\"blue\" d=\"M 400.27982000077446 19.0 392.2188336424034 19.0\"/><path stroke-width=\"2\" stroke=\"blue\" d=\"M 394.09414617768584 71.125 392.2188336424034 71.125\"/><path stroke-width=\"2\" stroke=\"blue\" d=\"M 392.2188336424034 19.0 392.2188336424034 71.125\"/><path stroke-width=\"2\" stroke=\"blue\" d=\"M 410 178.0 391.4676324345302 178.0\"/><path stroke-width=\"2\" stroke=\"blue\" d=\"M 401.45267947512747 196.0 391.4676324345302 196.0\"/><path stroke-width=\"2\" stroke=\"blue\" d=\"M 391.4676324345302 178.0 391.4676324345302 196.0\"/><path stroke-width=\"2\" stroke=\"red\" d=\"M 410 514.0 389.8525253639125 514.0\"/><path stroke-width=\"2\" stroke=\"red\" d=\"M 399.66365236653286 532.0 389.8525253639125 532.0\"/><path stroke-width=\"2\" stroke=\"red\" d=\"M 389.8525253639125 514.0 389.8525253639125 532.0\"/><path stroke-width=\"2\" stroke=\"green\" d=\"M 395.86949741316835 304.0 385.96870000826243 304.0\"/><path stroke-width=\"2\" stroke=\"green\" d=\"M 392.56185993690013 371.125 385.96870000826243 371.125\"/><path stroke-width=\"2\" stroke=\"green\" d=\"M 385.96870000826243 304.0 385.96870000826243 371.125\"/><path stroke-width=\"2\" stroke=\"red\" d=\"M 410 550.0 385.32470023566935 550.0\"/><path stroke-width=\"2\" stroke=\"red\" d=\"M 394.14911744058105 568.0 385.32470023566935 568.0\"/><path stroke-width=\"2\" stroke=\"red\" d=\"M 385.32470023566935 550.0 385.32470023566935 568.0\"/><path stroke-width=\"2\" stroke=\"blue\" d=\"M 400.5912952662182 160.0 384.75626069320185 160.0\"/><path stroke-width=\"2\" stroke=\"blue\" d=\"M 391.4676324345302 187.0 384.75626069320185 187.0\"/><path stroke-width=\"2\" stroke=\"blue\" d=\"M 384.75626069320185 160.0 384.75626069320185 187.0\"/><path stroke-width=\"2\" stroke=\"red\" d=\"M 393.45487691969026 496.0 384.35752178963236 496.0\"/><path stroke-width=\"2\" stroke=\"red\" d=\"M 389.8525253639125 523.0 384.35752178963236 523.0\"/><path stroke-width=\"2\" stroke=\"red\" d=\"M 384.35752178963236 496.0 384.35752178963236 523.0\"/><path stroke-width=\"2\" stroke=\"red\" d=\"M 410 586.0 382.04438985830615 586.0\"/><path stroke-width=\"2\" stroke=\"red\" d=\"M 410 598.0 382.04438985830615 598.0\"/><path stroke-width=\"2\" stroke=\"red\" d=\"M 382.04438985830615 586.0 382.04438985830615 598.0\"/><path stroke-width=\"2\" stroke=\"blue\" d=\"M 410 142.0 379.10546022715556 142.0\"/><path stroke-width=\"2\" stroke=\"blue\" d=\"M 384.75626069320185 173.5 379.10546022715556 173.5\"/><path stroke-width=\"2\" stroke=\"blue\" d=\"M 379.10546022715556 142.0 379.10546022715556 173.5\"/><path stroke-width=\"2\" stroke=\"red\" d=\"M 410 466.0 374.66267040504874 466.0\"/><path stroke-width=\"2\" stroke=\"red\" d=\"M 410 478.0 374.66267040504874 478.0\"/><path stroke-width=\"2\" stroke=\"red\" d=\"M 374.66267040504874 466.0 374.66267040504874 478.0\"/><path stroke-width=\"2\" stroke=\"green\" d=\"M 410 286.0 374.5643198337664 286.0\"/><path stroke-width=\"2\" stroke=\"green\" d=\"M 385.96870000826243 337.5625 374.5643198337664 337.5625\"/><path stroke-width=\"2\" stroke=\"green\" d=\"M 374.5643198337664 286.0 374.5643198337664 337.5625\"/><path stroke-width=\"2\" stroke=\"orange\" d=\"M 410 262.0 372.9881652861741 262.0\"/><path stroke-width=\"2\" stroke=\"orange\" d=\"M 410 274.0 372.9881652861741 274.0\"/><path stroke-width=\"2\" stroke=\"orange\" d=\"M 372.9881652861741 262.0 372.9881652861741 274.0\"/><path stroke-width=\"2\" stroke=\"blue\" d=\"M 392.2188336424034 45.0625 368.76351009316176 45.0625\"/><path stroke-width=\"2\" stroke=\"blue\" d=\"M 379.10546022715556 157.75 368.76351009316176 157.75\"/><path stroke-width=\"2\" stroke=\"blue\" d=\"M 368.76351009316176 45.0625 368.76351009316176 157.75\"/><path stroke-width=\"2\" stroke=\"red\" d=\"M 395.16236248854153 448.0 366.1886563650604 448.0\"/><path stroke-width=\"2\" stroke=\"red\" d=\"M 374.66267040504874 472.0 366.1886563650604 472.0\"/><path stroke-width=\"2\" stroke=\"red\" d=\"M 366.1886563650604 448.0 366.1886563650604 472.0\"/><path stroke-width=\"2\" stroke=\"red\" d=\"M 385.32470023566935 559.0 363.768072685371 559.0\"/><path stroke-width=\"2\" stroke=\"red\" d=\"M 382.04438985830615 592.0 363.768072685371 592.0\"/><path stroke-width=\"2\" stroke=\"red\" d=\"M 363.768072685371 559.0 363.768072685371 592.0\"/><path stroke-width=\"2\" stroke=\"red\" d=\"M 384.35752178963236 509.5 355.18309612130747 509.5\"/><path stroke-width=\"2\" stroke=\"red\" d=\"M 363.768072685371 575.5 355.18309612130747 575.5\"/><path stroke-width=\"2\" stroke=\"red\" d=\"M 355.18309612130747 509.5 355.18309612130747 575.5\"/><path stroke-width=\"2\" stroke=\"orange\" d=\"M 398.1083395056837 224.5 316.8401745738997 224.5\"/><path stroke-width=\"2\" stroke=\"orange\" d=\"M 372.9881652861741 268.0 316.8401745738997 268.0\"/><path stroke-width=\"2\" stroke=\"orange\" d=\"M 316.8401745738997 224.5 316.8401745738997 268.0\"/><path stroke-width=\"2\" stroke=\"red\" d=\"M 366.1886563650604 460.0 294.2702605782215 460.0\"/><path stroke-width=\"2\" stroke=\"red\" d=\"M 355.18309612130747 542.5 294.2702605782215 542.5\"/><path stroke-width=\"2\" stroke=\"red\" d=\"M 294.2702605782215 460.0 294.2702605782215 542.5\"/><path stroke-width=\"2\" stroke=\"black\" d=\"M 374.5643198337664 311.78125 256.7414482488472 311.78125\"/><path stroke-width=\"2\" stroke=\"black\" d=\"M 294.2702605782215 501.25 256.7414482488472 501.25\"/><path stroke-width=\"2\" stroke=\"black\" d=\"M 256.7414482488472 311.78125 256.7414482488472 501.25\"/><path stroke-width=\"2\" stroke=\"black\" d=\"M 316.8401745738997 246.25 157.23969788065784 246.25\"/><path stroke-width=\"2\" stroke=\"black\" d=\"M 256.7414482488472 406.515625 157.23969788065784 406.515625\"/><path stroke-width=\"2\" stroke=\"black\" d=\"M 157.23969788065784 246.25 157.23969788065784 406.515625\"/><path stroke-width=\"2\" stroke=\"black\" d=\"M 368.76351009316176 101.40625 10.0 101.40625\"/><path stroke-width=\"2\" stroke=\"black\" d=\"M 157.23969788065784 326.3828125 10.0 326.3828125\"/><path stroke-width=\"2\" stroke=\"black\" d=\"M 10.0 101.40625 10.0 326.3828125\"/></svg>"
      ],
      "text/plain": [
       "<IPython.core.display.SVG object>"
      ]
     },
     "execution_count": 12,
     "metadata": {},
     "output_type": "execute_result"
    }
   ],
   "source": [
    "label = label_id['Physical sciences']\n",
    "index = selection[label]\n",
    "dendrogram_articles = linkage(embeddings[index], method='ward')\n",
    "img = visualize_dendrogram(dendrogram_articles, names[index], rotate=True, scale = 2, width=200, n_clusters=4)\n",
    "SVG(img)"
   ]
  },
  {
   "cell_type": "markdown",
   "id": "4e9ca9fc",
   "metadata": {},
   "source": [
    "## Clustering"
   ]
  },
  {
   "cell_type": "code",
   "execution_count": 13,
   "id": "15ddf69d",
   "metadata": {},
   "outputs": [
    {
     "name": "stdout",
     "output_type": "stream",
     "text": [
      "9\n"
     ]
    }
   ],
   "source": [
    "algorithm = Louvain()\n",
    "clusters = algorithm.fit_predict(adjacency)\n",
    "n_clusters = len(set(clusters))\n",
    "print(n_clusters)"
   ]
  },
  {
   "cell_type": "code",
   "execution_count": 14,
   "id": "073a1488",
   "metadata": {},
   "outputs": [
    {
     "data": {
      "text/plain": [
       "(array([0, 1, 2, 3, 4, 5, 6, 7, 8]),\n",
       " array([1836, 1800, 1315, 1262, 1225, 1067,  804,  672,   30]))"
      ]
     },
     "execution_count": 14,
     "metadata": {},
     "output_type": "execute_result"
    }
   ],
   "source": [
    "np.unique(clusters, return_counts=True)"
   ]
  },
  {
   "cell_type": "code",
   "execution_count": 15,
   "id": "16f0b162",
   "metadata": {},
   "outputs": [],
   "source": [
    "n_selection = 10\n",
    "selection = []\n",
    "\n",
    "for cluster in np.arange(len(set(clusters))):\n",
    "    ppr = pagerank.fit_predict(adjacency, weights=(clusters==cluster)) # Boolean weights based on whether node is in cluster\n",
    "    scores = ppr * (clusters == cluster) # Mask scores to only consider nodes in cluster\n",
    "    selection.append(top_k(scores, n_selection)) # Select top n_selection nodes in cluster based on scores\n",
    "selection = np.array(selection)"
   ]
  },
  {
   "cell_type": "code",
   "execution_count": 16,
   "id": "94713203",
   "metadata": {},
   "outputs": [
    {
     "name": "stdout",
     "output_type": "stream",
     "text": [
      "----------\n",
      "Cluster no.  0\n",
      "['Physics' 'Hydrogen' 'Oxygen' 'Kelvin' 'Albert Einstein'\n",
      " 'Quantum mechanics' 'Electron' 'Real number' 'Density' 'Energy']\n",
      "----------\n",
      "Cluster no.  1\n",
      "['Taxonomy (biology)' 'Animal' 'Plant' 'Protein' 'Species' 'Chordate'\n",
      " 'Bacteria' 'Permian' 'Cambrian' 'Jurassic']\n",
      "----------\n",
      "Cluster no.  2\n",
      "['Latin' 'World War I' 'Roman Empire' 'Middle Ages' 'Greek language'\n",
      " 'London' 'Paris' 'Russian Empire' 'Renaissance' 'Byzantine Empire']\n",
      "----------\n",
      "Cluster no.  3\n",
      "['Christianity' 'Aristotle' 'Catholic Church' 'Plato'\n",
      " 'Age of Enlightenment' 'Augustine of Hippo' 'Thomas Aquinas' 'Hinduism'\n",
      " 'Karl Marx' 'Immanuel Kant']\n",
      "----------\n",
      "Cluster no.  4\n",
      "['United States' 'World War II' 'Geographic coordinate system'\n",
      " 'United Kingdom' 'France' 'Canada' 'Spain' 'Italy' 'Russia' 'Australia']\n",
      "----------\n",
      "Cluster no.  5\n",
      "['China' 'India' 'Buddhism' 'Islam' 'Chinese language' 'Iran'\n",
      " 'Encyclopædia Britannica' 'Ottoman Empire' 'Sanskrit' 'Persian language']\n",
      "----------\n",
      "Cluster no.  6\n",
      "['The New York Times' 'New York City' 'Time (magazine)' 'BBC'\n",
      " 'The Washington Post' 'Library of Congress' 'YouTube' 'Jazz'\n",
      " 'Great Depression' 'American Civil War']\n",
      "----------\n",
      "Cluster no.  7\n",
      "['Earth' 'Atlantic Ocean' 'Europe' 'Drainage basin' 'Pacific Ocean'\n",
      " 'Indian Ocean' 'Antarctica' 'North America' 'Arctic Ocean' 'Greenland']\n",
      "----------\n",
      "Cluster no.  8\n",
      "['Handbag' 'Hat' 'Veil' 'Uniform' 'Clothing' 'Wallet' 'Glasses' 'Helmet'\n",
      " 'Scarf' 'Glove']\n"
     ]
    }
   ],
   "source": [
    "# Print the selected top articles in each cluster\n",
    "for i in np.arange(len(set(clusters))):\n",
    "    print(\"-\"*10)\n",
    "    print(\"Cluster no. \", i)\n",
    "    print(names[selection[i]])"
   ]
  },
  {
   "cell_type": "markdown",
   "id": "fe13c1f7",
   "metadata": {},
   "source": [
    "## Classification\n",
    "\n",
    "Predicting the closest category for each page in the People category"
   ]
  },
  {
   "cell_type": "code",
   "execution_count": 17,
   "id": "84d56e43",
   "metadata": {},
   "outputs": [],
   "source": [
    "algorithm = DiffusionClassifier()\n",
    "people = label_id['People']\n",
    "labels_people = algorithm.fit_predict(adjacency, labels = {i: label for i, label in enumerate(labels) if label != people})\n"
   ]
  },
  {
   "cell_type": "code",
   "execution_count": 18,
   "id": "edddf556",
   "metadata": {},
   "outputs": [],
   "source": [
    "n_selection = 5\n",
    "selection = []\n",
    "for label in np.arange(len(names_labels)):\n",
    "    if label != people:\n",
    "        ppr = pagerank.fit_predict(adjacency, weights=(labels==people)*(labels_people==label))\n",
    "        scores = ppr * (labels==people)*(labels_people==label)\n",
    "        selection.append(top_k(scores, n_selection))\n",
    "selection = np.array(selection)"
   ]
  },
  {
   "cell_type": "code",
   "execution_count": 19,
   "id": "633aec13",
   "metadata": {},
   "outputs": [
    {
     "name": "stdout",
     "output_type": "stream",
     "text": [
      "----------\n",
      "0 Arts\n",
      "['Barack Obama' 'Noam Chomsky' 'Karl Marx' 'Ralph Waldo Emerson'\n",
      " 'Jean-Paul Sartre']\n",
      "----------\n",
      "1 Biological and health sciences\n",
      "['Barack Obama' 'Noam Chomsky' 'Karl Marx' 'Ralph Waldo Emerson'\n",
      " 'Jean-Paul Sartre']\n",
      "----------\n",
      "2 Everyday life\n",
      "['Barack Obama' 'Noam Chomsky' 'Karl Marx' 'Ralph Waldo Emerson'\n",
      " 'Jean-Paul Sartre']\n",
      "----------\n",
      "3 Geography\n",
      "['Barack Obama' 'Noam Chomsky' 'Karl Marx' 'Ralph Waldo Emerson'\n",
      " 'Jean-Paul Sartre']\n",
      "----------\n",
      "4 History\n",
      "['Barack Obama' 'Noam Chomsky' 'Karl Marx' 'Ralph Waldo Emerson'\n",
      " 'Jean-Paul Sartre']\n",
      "----------\n",
      "5 Mathematics\n",
      "['Barack Obama' 'Noam Chomsky' 'Karl Marx' 'Ralph Waldo Emerson'\n",
      " 'Jean-Paul Sartre']\n",
      "----------\n",
      "7 Philosophy and religion\n",
      "['Barack Obama' 'Noam Chomsky' 'Karl Marx' 'Ralph Waldo Emerson'\n",
      " 'Jean-Paul Sartre']\n",
      "----------\n",
      "8 Physical sciences\n",
      "['Barack Obama' 'Noam Chomsky' 'Karl Marx' 'Ralph Waldo Emerson'\n",
      " 'Jean-Paul Sartre']\n",
      "----------\n",
      "9 Society and social sciences\n",
      "['Barack Obama' 'Noam Chomsky' 'Karl Marx' 'Ralph Waldo Emerson'\n",
      " 'Jean-Paul Sartre']\n",
      "----------\n",
      "10 Technology\n",
      "['Barack Obama' 'Noam Chomsky' 'Karl Marx' 'Ralph Waldo Emerson'\n",
      " 'Jean-Paul Sartre']\n"
     ]
    }
   ],
   "source": [
    "for label, name_label in enumerate(names_labels):\n",
    "    if label != people:\n",
    "        print(\"-\"*10)\n",
    "        print(label, name_label)\n",
    "        print(names[selection[i]])"
   ]
  },
  {
   "cell_type": "markdown",
   "id": "e1447aec",
   "metadata": {},
   "source": [
    "GNN GCN"
   ]
  },
  {
   "cell_type": "code",
   "execution_count": 20,
   "id": "51672734",
   "metadata": {},
   "outputs": [],
   "source": [
    "from sknetwork.gnn import GNNClassifier"
   ]
  },
  {
   "cell_type": "code",
   "execution_count": 21,
   "id": "4102c0bb",
   "metadata": {},
   "outputs": [],
   "source": [
    "graph = wikivitals\n",
    "adjacency = graph.adjacency\n",
    "features = graph.biadjacency\n",
    "names = graph.names # article titles\n",
    "names_features = graph.names_col \n",
    "names_labels = graph.names_labels\n",
    "labels_true = graph.labels"
   ]
  },
  {
   "cell_type": "code",
   "execution_count": 22,
   "id": "5c895aea",
   "metadata": {},
   "outputs": [
    {
     "name": "stdout",
     "output_type": "stream",
     "text": [
      "11\n",
      "(37845,)\n",
      "(10011,)\n"
     ]
    }
   ],
   "source": [
    "n_labels = len(set(labels_true))\n",
    "print(n_labels)\n",
    "print(names_features.shape)\n",
    "print(names.shape)"
   ]
  },
  {
   "cell_type": "code",
   "execution_count": 23,
   "id": "45e5e047",
   "metadata": {},
   "outputs": [
    {
     "name": "stdout",
     "output_type": "stream",
     "text": [
      "GNNClassifier(\n",
      "    Convolution(layer_type: conv, out_channels: 10, activation: ReLu, use_bias: True, normalization: both, self_embeddings: True)\n",
      "    Convolution(layer_type: conv, out_channels: 11, activation: Cross entropy, use_bias: True, normalization: both, self_embeddings: True)\n",
      ")\n"
     ]
    }
   ],
   "source": [
    "# GNN classifier with a single hidden layer\n",
    "hidden_dim = 10\n",
    "\n",
    "gnn = GNNClassifier(dims=[hidden_dim, n_labels],\n",
    "                    layer_types='Conv',\n",
    "                    activations='ReLu',\n",
    "                    verbose=True)\n",
    "\n",
    "\n",
    "print(gnn)"
   ]
  },
  {
   "cell_type": "code",
   "execution_count": null,
   "id": "82ba58ae",
   "metadata": {},
   "outputs": [
    {
     "name": "stdout",
     "output_type": "stream",
     "text": [
      "[ True False False ... False False  True]\n",
      "[-1  5  2 -1 -1  4  4  4 -1 -1]\n"
     ]
    }
   ],
   "source": [
    "# Training set \n",
    "labels = labels_true.copy()\n",
    "np.random.default_rng(42)\n",
    "train_mask = np.random.random(size=len(labels)) < 0.5 # 50-50 True False\n",
    "print(train_mask)\n",
    "labels[train_mask] = -1 # -1 means no label\n",
    "print(labels[:10]) # Print the first 10 labels to check the training set"
   ]
  },
  {
   "cell_type": "code",
   "execution_count": 25,
   "id": "92be93f2",
   "metadata": {},
   "outputs": [
    {
     "name": "stdout",
     "output_type": "stream",
     "text": [
      "In epoch   0, loss: 2.467, train accuracy: 0.076\n",
      "In epoch  20, loss: 2.068, train accuracy: 0.495\n",
      "In epoch  40, loss: 2.024, train accuracy: 0.630\n",
      "In epoch  60, loss: 1.917, train accuracy: 0.703\n",
      "In epoch  80, loss: 1.841, train accuracy: 0.752\n",
      "In epoch 100, loss: 1.784, train accuracy: 0.799\n",
      "In epoch 120, loss: 1.733, train accuracy: 0.843\n",
      "In epoch 140, loss: 1.698, train accuracy: 0.873\n",
      "In epoch 160, loss: 1.669, train accuracy: 0.899\n",
      "In epoch 180, loss: 1.643, train accuracy: 0.921\n"
     ]
    }
   ],
   "source": [
    "# Training\n",
    "labels_pred = gnn.fit_predict(adjacency, features, labels, n_epochs=200, random_state=42)"
   ]
  },
  {
   "cell_type": "code",
   "execution_count": 26,
   "id": "8404efb6",
   "metadata": {},
   "outputs": [
    {
     "data": {
      "text/plain": [
       "dict_keys(['loss', 'train_accuracy'])"
      ]
     },
     "execution_count": 26,
     "metadata": {},
     "output_type": "execute_result"
    }
   ],
   "source": [
    "gnn.history_.keys() # Check the training history"
   ]
  },
  {
   "cell_type": "code",
   "execution_count": 27,
   "id": "e4eaf4b7",
   "metadata": {},
   "outputs": [
    {
     "data": {
      "text/plain": [
       "np.float64(0.9396875617955309)"
      ]
     },
     "execution_count": 27,
     "metadata": {},
     "output_type": "execute_result"
    }
   ],
   "source": [
    "from sknetwork.classification import get_accuracy_score\n",
    "# Accuracy on test set\n",
    "test_mask = ~train_mask\n",
    "get_accuracy_score(labels_true[test_mask], labels_pred[test_mask])"
   ]
  },
  {
   "cell_type": "code",
   "execution_count": 28,
   "id": "edd119f0",
   "metadata": {},
   "outputs": [],
   "source": [
    "# probability distribution over labels\n",
    "probs = gnn.predict_proba()"
   ]
  },
  {
   "cell_type": "code",
   "execution_count": 29,
   "id": "92a2003d",
   "metadata": {},
   "outputs": [],
   "source": [
    "label = 1\n",
    "scores = probs[:, label]"
   ]
  },
  {
   "cell_type": "markdown",
   "id": "b7834471",
   "metadata": {},
   "source": []
  },
  {
   "cell_type": "markdown",
   "id": "82887518",
   "metadata": {},
   "source": [
    "Extract features from GMRA\n",
    "Use these features to train a\n",
    "\n",
    "1. GNN => Linear Classifier\n",
    "2. GMRA built on top of GCN + concat to GCN => linear classifier"
   ]
  }
 ],
 "metadata": {
  "kernelspec": {
   "display_name": "gmra",
   "language": "python",
   "name": "python3"
  },
  "language_info": {
   "codemirror_mode": {
    "name": "ipython",
    "version": 3
   },
   "file_extension": ".py",
   "mimetype": "text/x-python",
   "name": "python",
   "nbconvert_exporter": "python",
   "pygments_lexer": "ipython3",
   "version": "3.12.2"
  }
 },
 "nbformat": 4,
 "nbformat_minor": 5
}
